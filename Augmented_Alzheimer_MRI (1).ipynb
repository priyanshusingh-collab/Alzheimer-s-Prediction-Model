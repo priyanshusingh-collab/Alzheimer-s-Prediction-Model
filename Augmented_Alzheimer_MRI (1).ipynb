{
  "cells": [
    {
      "cell_type": "code",
      "execution_count": null,
      "metadata": {
        "id": "XHCnpfU6AHBz"
      },
      "outputs": [],
      "source": [
        "import numpy as np\n",
        "import tensorflow  as tf\n",
        "from tensorflow import keras\n",
        "import  matplotlib.pyplot as plt\n",
        "import os\n",
        "import zipfile\n",
        "from  keras.preprocessing.image import ImageDataGenerator\n",
        "from keras.optimizers import RMSprop"
      ]
    },
    {
      "cell_type": "code",
      "execution_count": null,
      "metadata": {
        "id": "36zAUXfGO3dp",
        "colab": {
          "base_uri": "https://localhost:8080/"
        },
        "outputId": "4d14e7d8-fdb9-4bdf-87ac-becbbdf8db95"
      },
      "outputs": [
        {
          "output_type": "stream",
          "name": "stdout",
          "text": [
            "Looking in indexes: https://pypi.org/simple, https://us-python.pkg.dev/colab-wheels/public/simple/\n",
            "Requirement already satisfied: kaggle in /usr/local/lib/python3.7/dist-packages (1.5.12)\n",
            "Requirement already satisfied: urllib3 in /usr/local/lib/python3.7/dist-packages (from kaggle) (1.24.3)\n",
            "Requirement already satisfied: python-dateutil in /usr/local/lib/python3.7/dist-packages (from kaggle) (2.8.2)\n",
            "Requirement already satisfied: certifi in /usr/local/lib/python3.7/dist-packages (from kaggle) (2022.9.24)\n",
            "Requirement already satisfied: six>=1.10 in /usr/local/lib/python3.7/dist-packages (from kaggle) (1.15.0)\n",
            "Requirement already satisfied: tqdm in /usr/local/lib/python3.7/dist-packages (from kaggle) (4.64.1)\n",
            "Requirement already satisfied: python-slugify in /usr/local/lib/python3.7/dist-packages (from kaggle) (6.1.2)\n",
            "Requirement already satisfied: requests in /usr/local/lib/python3.7/dist-packages (from kaggle) (2.23.0)\n",
            "Requirement already satisfied: text-unidecode>=1.3 in /usr/local/lib/python3.7/dist-packages (from python-slugify->kaggle) (1.3)\n",
            "Requirement already satisfied: chardet<4,>=3.0.2 in /usr/local/lib/python3.7/dist-packages (from requests->kaggle) (3.0.4)\n",
            "Requirement already satisfied: idna<3,>=2.5 in /usr/local/lib/python3.7/dist-packages (from requests->kaggle) (2.10)\n"
          ]
        }
      ],
      "source": [
        "#Installing Kaggle API to fetch data directly to colab\n",
        "! pip install kaggle"
      ]
    },
    {
      "cell_type": "code",
      "source": [
        "! mkdir ~/.kaggle"
      ],
      "metadata": {
        "id": "W2OGr1_ypuBK"
      },
      "execution_count": null,
      "outputs": []
    },
    {
      "cell_type": "code",
      "source": [
        "! cp kaggle.json ~/.kaggle/"
      ],
      "metadata": {
        "id": "Eha3gTxZpxeK"
      },
      "execution_count": null,
      "outputs": []
    },
    {
      "cell_type": "code",
      "source": [
        "! chmod 600 ~/.kaggle/kaggle.json"
      ],
      "metadata": {
        "id": "PxTc8jRhp5EH"
      },
      "execution_count": null,
      "outputs": []
    },
    {
      "cell_type": "code",
      "source": [
        "! kaggle datasets download uraninjo/augmented-alzheimer-mri-dataset-v2"
      ],
      "metadata": {
        "colab": {
          "base_uri": "https://localhost:8080/"
        },
        "id": "6qNof9Y8q24q",
        "outputId": "ee181e32-6a16-4c96-d48c-5ba302d9d96a"
      },
      "execution_count": null,
      "outputs": [
        {
          "output_type": "stream",
          "name": "stdout",
          "text": [
            "Downloading augmented-alzheimer-mri-dataset-v2.zip to /content\n",
            "100% 378M/379M [00:18<00:00, 21.3MB/s]\n",
            "100% 379M/379M [00:18<00:00, 21.3MB/s]\n"
          ]
        }
      ]
    },
    {
      "cell_type": "code",
      "source": [
        "#Preparing data \n",
        "zipref = zipfile.ZipFile(\"/content/augmented-alzheimer-mri-dataset-v2.zip\",'r')"
      ],
      "metadata": {
        "id": "insVayJfrGm3"
      },
      "execution_count": null,
      "outputs": []
    },
    {
      "cell_type": "code",
      "source": [
        "zipref.extractall()"
      ],
      "metadata": {
        "id": "5q1FuhWnsb9I"
      },
      "execution_count": null,
      "outputs": []
    },
    {
      "cell_type": "code",
      "source": [
        "zipref.close()"
      ],
      "metadata": {
        "id": "8GSCa90msgLe"
      },
      "execution_count": null,
      "outputs": []
    },
    {
      "cell_type": "code",
      "source": [
        "train_dir = \"/content/data/train\"\n",
        "val_dir = \"/content/data/val\""
      ],
      "metadata": {
        "id": "hmpK2YULstQu"
      },
      "execution_count": null,
      "outputs": []
    },
    {
      "cell_type": "code",
      "source": [
        "#Normalizing data using Imagedatagenerator\n",
        "train_gen = ImageDataGenerator(rescale = 1./255)\n",
        "val_gen =  ImageDataGenerator(rescale = 1./255)\n"
      ],
      "metadata": {
        "id": "9VSnQ2LNtQd-"
      },
      "execution_count": null,
      "outputs": []
    },
    {
      "cell_type": "code",
      "source": [
        "train_image = train_gen.flow_from_directory(train_dir,\n",
        "                                            target_size = (200,200),\n",
        "                                            batch_size=128,\n",
        "                                            class_mode='categorical')\n",
        "val_image = val_gen.flow_from_directory(val_dir,\n",
        "                                        target_size = (200,200),\n",
        "                                        batch_size = 64,\n",
        "                                        class_mode = 'categorical')"
      ],
      "metadata": {
        "colab": {
          "base_uri": "https://localhost:8080/"
        },
        "id": "PtYhSgtOtl3W",
        "outputId": "74b2559c-6abd-41b3-f1af-e2aab9b57477"
      },
      "execution_count": null,
      "outputs": [
        {
          "output_type": "stream",
          "name": "stdout",
          "text": [
            "Found 33984 images belonging to 4 classes.\n",
            "Found 6400 images belonging to 4 classes.\n"
          ]
        }
      ]
    },
    {
      "cell_type": "code",
      "source": [
        "#Defining the network architecture\n",
        "model = keras.Sequential([keras.layers.Conv2D(16,(3,3),activation = 'relu',input_shape = (200,200,3)),\n",
        "                          keras.layers.MaxPooling2D(2,2),\n",
        "                          keras.layers.Conv2D(32,(3,3),activation = 'relu'),\n",
        "                          keras.layers.MaxPooling2D(2,2),\n",
        "                          keras.layers.Conv2D(64,(3,3),activation = 'relu'),\n",
        "                          keras.layers.MaxPooling2D(2,2),\n",
        "                          keras.layers.Flatten(),\n",
        "                          keras.layers.Dense(512,activation = 'relu'),\n",
        "                          keras.layers.Dense(4,activation = 'softmax')])"
      ],
      "metadata": {
        "id": "YU8-eHTKuT6P"
      },
      "execution_count": null,
      "outputs": []
    },
    {
      "cell_type": "code",
      "source": [
        "model.compile(optimizer = RMSprop(learning_rate = 0.001),loss = 'categorical_crossentropy',metrics = ['accuracy'])"
      ],
      "metadata": {
        "id": "zva1Qemsz_TG"
      },
      "execution_count": null,
      "outputs": []
    },
    {
      "cell_type": "code",
      "source": [
        "history = model.fit(train_image,steps_per_epoch=266,epochs = 20,validation_data= val_image,validation_steps =100 )"
      ],
      "metadata": {
        "colab": {
          "base_uri": "https://localhost:8080/"
        },
        "id": "liIm3Gve0lLh",
        "outputId": "30eaf255-ed0c-4cf9-b8a3-9ff1fcd959f4"
      },
      "execution_count": null,
      "outputs": [
        {
          "output_type": "stream",
          "name": "stdout",
          "text": [
            "Epoch 1/20\n",
            "266/266 [==============================] - 64s 237ms/step - loss: 1.1105 - accuracy: 0.5535 - val_loss: 0.5990 - val_accuracy: 0.7498\n",
            "Epoch 2/20\n",
            "266/266 [==============================] - 62s 234ms/step - loss: 0.5398 - accuracy: 0.7704 - val_loss: 0.1854 - val_accuracy: 0.9367\n",
            "Epoch 3/20\n",
            "266/266 [==============================] - 61s 230ms/step - loss: 0.2979 - accuracy: 0.8798 - val_loss: 0.0963 - val_accuracy: 0.9647\n",
            "Epoch 4/20\n",
            "266/266 [==============================] - 62s 231ms/step - loss: 0.1642 - accuracy: 0.9360 - val_loss: 0.0546 - val_accuracy: 0.9839\n",
            "Epoch 5/20\n",
            "266/266 [==============================] - 62s 231ms/step - loss: 0.0835 - accuracy: 0.9697 - val_loss: 0.1584 - val_accuracy: 0.9508\n",
            "Epoch 6/20\n",
            "266/266 [==============================] - 61s 229ms/step - loss: 0.0457 - accuracy: 0.9844 - val_loss: 0.0019 - val_accuracy: 0.9994\n",
            "Epoch 7/20\n",
            "266/266 [==============================] - 62s 234ms/step - loss: 0.0348 - accuracy: 0.9902 - val_loss: 0.0221 - val_accuracy: 0.9931\n",
            "Epoch 8/20\n",
            "266/266 [==============================] - 63s 236ms/step - loss: 0.0337 - accuracy: 0.9919 - val_loss: 0.0018 - val_accuracy: 0.9994\n",
            "Epoch 9/20\n",
            "266/266 [==============================] - 62s 234ms/step - loss: 0.0354 - accuracy: 0.9915 - val_loss: 0.0060 - val_accuracy: 0.9981\n",
            "Epoch 10/20\n",
            "266/266 [==============================] - 61s 231ms/step - loss: 0.0211 - accuracy: 0.9941 - val_loss: 0.0090 - val_accuracy: 0.9977\n",
            "Epoch 11/20\n",
            "266/266 [==============================] - 62s 234ms/step - loss: 0.0255 - accuracy: 0.9934 - val_loss: 0.0046 - val_accuracy: 0.9989\n",
            "Epoch 12/20\n",
            "266/266 [==============================] - 62s 233ms/step - loss: 0.0178 - accuracy: 0.9958 - val_loss: 0.0280 - val_accuracy: 0.9914\n",
            "Epoch 13/20\n",
            "266/266 [==============================] - 61s 231ms/step - loss: 0.0229 - accuracy: 0.9947 - val_loss: 0.0035 - val_accuracy: 0.9989\n",
            "Epoch 14/20\n",
            "266/266 [==============================] - 62s 232ms/step - loss: 0.0302 - accuracy: 0.9940 - val_loss: 0.0054 - val_accuracy: 0.9981\n",
            "Epoch 15/20\n",
            "266/266 [==============================] - 61s 230ms/step - loss: 0.0269 - accuracy: 0.9944 - val_loss: 7.0203 - val_accuracy: 0.6567\n",
            "Epoch 16/20\n",
            "266/266 [==============================] - 61s 230ms/step - loss: 0.0400 - accuracy: 0.9944 - val_loss: 0.0144 - val_accuracy: 0.9958\n",
            "Epoch 17/20\n",
            "266/266 [==============================] - 62s 232ms/step - loss: 0.0321 - accuracy: 0.9945 - val_loss: 0.0076 - val_accuracy: 0.9981\n",
            "Epoch 18/20\n",
            "266/266 [==============================] - 61s 229ms/step - loss: 0.0241 - accuracy: 0.9959 - val_loss: 0.0027 - val_accuracy: 0.9991\n",
            "Epoch 19/20\n",
            "266/266 [==============================] - 61s 230ms/step - loss: 0.0269 - accuracy: 0.9956 - val_loss: 0.0089 - val_accuracy: 0.9977\n",
            "Epoch 20/20\n",
            "266/266 [==============================] - 61s 228ms/step - loss: 0.0254 - accuracy: 0.9949 - val_loss: 0.0722 - val_accuracy: 0.9828\n"
          ]
        }
      ]
    },
    {
      "cell_type": "code",
      "source": [
        "acc = history.history['accuracy']\n",
        "x = np.arange(1,len(acc)+1)"
      ],
      "metadata": {
        "id": "aRQ1KOyP1mzX"
      },
      "execution_count": null,
      "outputs": []
    },
    {
      "cell_type": "code",
      "source": [
        "plt.plot(x,acc)"
      ],
      "metadata": {
        "colab": {
          "base_uri": "https://localhost:8080/",
          "height": 282
        },
        "id": "UjIbZPu688pM",
        "outputId": "e6f6645a-7c01-4436-d819-a2a03204e417"
      },
      "execution_count": null,
      "outputs": [
        {
          "output_type": "execute_result",
          "data": {
            "text/plain": [
              "[<matplotlib.lines.Line2D at 0x7f873b93c410>]"
            ]
          },
          "metadata": {},
          "execution_count": 30
        },
        {
          "output_type": "display_data",
          "data": {
            "text/plain": [
              "<Figure size 432x288 with 1 Axes>"
            ],
            "image/png": "[encoded data removed]"
          },
          "metadata": {
            "needs_background": "light"
          }
        }
      ]
    },
    {
      "cell_type": "code",
      "source": [],
      "metadata": {
        "id": "LKkZflx29G4k"
      },
      "execution_count": null,
      "outputs": []
    }
  ],
  "metadata": {
    "colab": {
      "provenance": []
    },
    "kernelspec": {
      "display_name": "Python 3",
      "name": "python3"
    },
    "language_info": {
      "name": "python"
    },
    "gpuClass": "standard",
    "accelerator": "GPU"
  },
  "nbformat": 4,
  "nbformat_minor": 0
}