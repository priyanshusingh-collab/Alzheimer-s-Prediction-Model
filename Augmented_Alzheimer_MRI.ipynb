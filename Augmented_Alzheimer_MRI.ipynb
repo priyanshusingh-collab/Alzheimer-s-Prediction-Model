{
  "cells": [
    {
      "cell_type": "markdown",
      "metadata": {
        "id": "view-in-github",
        "colab_type": "text"
      },
      "source": [
        "<a href=\"https://colab.research.google.com/github/priyanshusingh-collab/Alzheimer-s-Prediction-Model/blob/main/Augmented_Alzheimer_MRI.ipynb\" target=\"_parent\"><img src=\"https://colab.research.google.com/assets/colab-badge.svg\" alt=\"Open In Colab\"/></a>"
      ]
    },
    {
      "cell_type": "code",
      "execution_count": 1,
      "metadata": {
        "id": "XHCnpfU6AHBz"
      },
      "outputs": [],
      "source": [
        "import numpy as np\n",
        "import tensorflow  as tf\n",
        "from tensorflow import keras\n",
        "import  matplotlib.pyplot as plt\n",
        "import os\n",
        "import zipfile\n",
        "from  keras.preprocessing.image import ImageDataGenerator\n",
        "from keras.optimizers import RMSprop"
      ]
    },
    {
      "cell_type": "code",
      "execution_count": 2,
      "metadata": {
        "id": "36zAUXfGO3dp",
        "colab": {
          "base_uri": "https://localhost:8080/"
        },
        "outputId": "f17bde09-b74e-44c5-a01c-3491ec3e38b3"
      },
      "outputs": [
        {
          "output_type": "stream",
          "name": "stdout",
          "text": [
            "Looking in indexes: https://pypi.org/simple, https://us-python.pkg.dev/colab-wheels/public/simple/\n",
            "Requirement already satisfied: kaggle in /usr/local/lib/python3.8/dist-packages (1.5.12)\n",
            "Requirement already satisfied: tqdm in /usr/local/lib/python3.8/dist-packages (from kaggle) (4.64.1)\n",
            "Requirement already satisfied: six>=1.10 in /usr/local/lib/python3.8/dist-packages (from kaggle) (1.15.0)\n",
            "Requirement already satisfied: python-slugify in /usr/local/lib/python3.8/dist-packages (from kaggle) (7.0.0)\n",
            "Requirement already satisfied: urllib3 in /usr/local/lib/python3.8/dist-packages (from kaggle) (1.24.3)\n",
            "Requirement already satisfied: certifi in /usr/local/lib/python3.8/dist-packages (from kaggle) (2022.12.7)\n",
            "Requirement already satisfied: requests in /usr/local/lib/python3.8/dist-packages (from kaggle) (2.25.1)\n",
            "Requirement already satisfied: python-dateutil in /usr/local/lib/python3.8/dist-packages (from kaggle) (2.8.2)\n",
            "Requirement already satisfied: text-unidecode>=1.3 in /usr/local/lib/python3.8/dist-packages (from python-slugify->kaggle) (1.3)\n",
            "Requirement already satisfied: idna<3,>=2.5 in /usr/local/lib/python3.8/dist-packages (from requests->kaggle) (2.10)\n",
            "Requirement already satisfied: chardet<5,>=3.0.2 in /usr/local/lib/python3.8/dist-packages (from requests->kaggle) (4.0.0)\n"
          ]
        }
      ],
      "source": [
        "#Install Kaggle API to fetch data directly to colab\n",
        "#Note:- To run this code in Google Colab, download the Kaggle API token and upload it to the directory /content/\n",
        "! pip install kaggle"
      ]
    },
    {
      "cell_type": "code",
      "source": [
        "! mkdir ~/.kaggle\n",
        "! cp kaggle.json ~/.kaggle/\n",
        "! chmod 600 ~/.kaggle/kaggle.json\n",
        "! kaggle datasets download uraninjo/augmented-alzheimer-mri-dataset-v2"
      ],
      "metadata": {
        "id": "W2OGr1_ypuBK",
        "colab": {
          "base_uri": "https://localhost:8080/"
        },
        "outputId": "f236ef2c-99aa-4a21-fbde-80f71173b2f7"
      },
      "execution_count": 3,
      "outputs": [
        {
          "output_type": "stream",
          "name": "stdout",
          "text": [
            "Downloading augmented-alzheimer-mri-dataset-v2.zip to /content\n",
            "100% 377M/379M [00:17<00:00, 24.4MB/s]\n",
            "100% 379M/379M [00:17<00:00, 22.9MB/s]\n"
          ]
        }
      ]
    },
    {
      "cell_type": "code",
      "source": [
        "#Extract downloaded zip data to the directory /content/data/ \n",
        "zipref = zipfile.ZipFile(\"/content/augmented-alzheimer-mri-dataset-v2.zip\",'r')\n",
        "zipref.extractall()\n",
        "zipref.close()\n",
        "train_dir = \"/content/data/train\"\n",
        "val_dir = \"/content/data/val\""
      ],
      "metadata": {
        "id": "insVayJfrGm3"
      },
      "execution_count": 4,
      "outputs": []
    },
    {
      "cell_type": "code",
      "source": [
        "#Normalize data using Imagedatagenerator\n",
        "train_gen = ImageDataGenerator(rescale = 1./255)\n",
        "val_gen =  ImageDataGenerator(rescale = 1./255)\n"
      ],
      "metadata": {
        "id": "9VSnQ2LNtQd-"
      },
      "execution_count": 17,
      "outputs": []
    },
    {
      "cell_type": "code",
      "source": [
        "#Define ImageDataGenerator\n",
        "train_image = train_gen.flow_from_directory(train_dir,\n",
        "                                            target_size = (200,200),\n",
        "                                            batch_size=128,\n",
        "                                            class_mode='categorical')\n",
        "val_image = val_gen.flow_from_directory(val_dir,\n",
        "                                        target_size = (200,200),\n",
        "                                        batch_size = 64,\n",
        "                                        class_mode = 'categorical')"
      ],
      "metadata": {
        "colab": {
          "base_uri": "https://localhost:8080/"
        },
        "id": "PtYhSgtOtl3W",
        "outputId": "4cb6916d-a2c6-425b-d1d0-82a18a1f8ead"
      },
      "execution_count": 18,
      "outputs": [
        {
          "output_type": "stream",
          "name": "stdout",
          "text": [
            "Found 33984 images belonging to 4 classes.\n",
            "Found 6400 images belonging to 4 classes.\n"
          ]
        }
      ]
    },
    {
      "cell_type": "code",
      "source": [
        "#Define the network architecture\n",
        "model = keras.Sequential([keras.layers.Conv2D(16,(3,3),activation = 'relu',input_shape = (200,200,3)),\n",
        "                          keras.layers.MaxPooling2D(2,2),\n",
        "                          keras.layers.Conv2D(32,(3,3),activation = 'relu'),\n",
        "                          keras.layers.MaxPooling2D(2,2),\n",
        "                          keras.layers.Conv2D(64,(3,3),activation = 'relu'),\n",
        "                          keras.layers.MaxPooling2D(2,2),\n",
        "                          keras.layers.Flatten(),\n",
        "                          keras.layers.Dense(512,activation = 'relu'),\n",
        "                          keras.layers.Dense(4,activation = 'softmax')])"
      ],
      "metadata": {
        "id": "YU8-eHTKuT6P"
      },
      "execution_count": 19,
      "outputs": []
    },
    {
      "cell_type": "code",
      "source": [
        "#Summary of network\n",
        "model.summary()"
      ],
      "metadata": {
        "colab": {
          "base_uri": "https://localhost:8080/"
        },
        "id": "LMCUxt6c2asR",
        "outputId": "45506f00-9f0d-4cd0-9997-69b954acc34a"
      },
      "execution_count": 20,
      "outputs": [
        {
          "output_type": "stream",
          "name": "stdout",
          "text": [
            "Model: \"sequential\"\n",
            "_________________________________________________________________\n",
            " Layer (type)                Output Shape              Param #   \n",
            "=================================================================\n",
            " conv2d (Conv2D)             (None, 198, 198, 16)      448       \n",
            "                                                                 \n",
            " max_pooling2d (MaxPooling2D  (None, 99, 99, 16)       0         \n",
            " )                                                               \n",
            "                                                                 \n",
            " conv2d_1 (Conv2D)           (None, 97, 97, 32)        4640      \n",
            "                                                                 \n",
            " max_pooling2d_1 (MaxPooling  (None, 48, 48, 32)       0         \n",
            " 2D)                                                             \n",
            "                                                                 \n",
            " conv2d_2 (Conv2D)           (None, 46, 46, 64)        18496     \n",
            "                                                                 \n",
            " max_pooling2d_2 (MaxPooling  (None, 23, 23, 64)       0         \n",
            " 2D)                                                             \n",
            "                                                                 \n",
            " flatten (Flatten)           (None, 33856)             0         \n",
            "                                                                 \n",
            " dense (Dense)               (None, 512)               17334784  \n",
            "                                                                 \n",
            " dense_1 (Dense)             (None, 4)                 2052      \n",
            "                                                                 \n",
            "=================================================================\n",
            "Total params: 17,360,420\n",
            "Trainable params: 17,360,420\n",
            "Non-trainable params: 0\n",
            "_________________________________________________________________\n"
          ]
        }
      ]
    },
    {
      "cell_type": "code",
      "source": [
        "#Setup training parameters\n",
        "model.compile(optimizer = RMSprop(learning_rate = 0.001),loss = 'categorical_crossentropy',metrics = ['accuracy'])"
      ],
      "metadata": {
        "id": "zva1Qemsz_TG"
      },
      "execution_count": 21,
      "outputs": []
    },
    {
      "cell_type": "code",
      "source": [
        "#Training the model\n",
        "history = model.fit(train_image,steps_per_epoch=266,epochs = 20,validation_data= val_image,validation_steps =100 )"
      ],
      "metadata": {
        "colab": {
          "base_uri": "https://localhost:8080/"
        },
        "id": "liIm3Gve0lLh",
        "outputId": "1fd004de-c753-48fb-d2b4-17eda8f0efe3"
      },
      "execution_count": 22,
      "outputs": [
        {
          "output_type": "stream",
          "name": "stdout",
          "text": [
            "Epoch 1/20\n",
            "266/266 [==============================] - 72s 232ms/step - loss: 1.0091 - accuracy: 0.5584 - val_loss: 0.9909 - val_accuracy: 0.5586\n",
            "Epoch 2/20\n",
            "266/266 [==============================] - 62s 234ms/step - loss: 0.5478 - accuracy: 0.7647 - val_loss: 0.2354 - val_accuracy: 0.9155\n",
            "Epoch 3/20\n",
            "266/266 [==============================] - 61s 229ms/step - loss: 0.3236 - accuracy: 0.8667 - val_loss: 0.1635 - val_accuracy: 0.9286\n",
            "Epoch 4/20\n",
            "266/266 [==============================] - 60s 227ms/step - loss: 0.1861 - accuracy: 0.9283 - val_loss: 0.0411 - val_accuracy: 0.9883\n",
            "Epoch 5/20\n",
            "266/266 [==============================] - 60s 224ms/step - loss: 0.1036 - accuracy: 0.9626 - val_loss: 0.0467 - val_accuracy: 0.9836\n",
            "Epoch 6/20\n",
            "266/266 [==============================] - 59s 223ms/step - loss: 0.0587 - accuracy: 0.9804 - val_loss: 0.0357 - val_accuracy: 0.9880\n",
            "Epoch 7/20\n",
            "266/266 [==============================] - 59s 223ms/step - loss: 0.0478 - accuracy: 0.9863 - val_loss: 0.0070 - val_accuracy: 0.9975\n",
            "Epoch 8/20\n",
            "266/266 [==============================] - 60s 225ms/step - loss: 0.0271 - accuracy: 0.9916 - val_loss: 0.0081 - val_accuracy: 0.9969\n",
            "Epoch 9/20\n",
            "266/266 [==============================] - 59s 223ms/step - loss: 0.0231 - accuracy: 0.9931 - val_loss: 0.0065 - val_accuracy: 0.9983\n",
            "Epoch 10/20\n",
            "266/266 [==============================] - 60s 224ms/step - loss: 0.0439 - accuracy: 0.9926 - val_loss: 0.0066 - val_accuracy: 0.9984\n",
            "Epoch 11/20\n",
            "266/266 [==============================] - 59s 221ms/step - loss: 0.0318 - accuracy: 0.9931 - val_loss: 0.0179 - val_accuracy: 0.9962\n",
            "Epoch 12/20\n",
            "266/266 [==============================] - 60s 223ms/step - loss: 0.0451 - accuracy: 0.9932 - val_loss: 0.0118 - val_accuracy: 0.9975\n",
            "Epoch 13/20\n",
            "266/266 [==============================] - 59s 220ms/step - loss: 0.0326 - accuracy: 0.9945 - val_loss: 0.0111 - val_accuracy: 0.9972\n",
            "Epoch 14/20\n",
            "266/266 [==============================] - 59s 221ms/step - loss: 0.0298 - accuracy: 0.9941 - val_loss: 0.0146 - val_accuracy: 0.9958\n",
            "Epoch 15/20\n",
            "266/266 [==============================] - 59s 220ms/step - loss: 0.0375 - accuracy: 0.9930 - val_loss: 0.0063 - val_accuracy: 0.9984\n",
            "Epoch 16/20\n",
            "266/266 [==============================] - 59s 221ms/step - loss: 0.0373 - accuracy: 0.9935 - val_loss: 0.0066 - val_accuracy: 0.9977\n",
            "Epoch 17/20\n",
            "266/266 [==============================] - 58s 218ms/step - loss: 0.0419 - accuracy: 0.9933 - val_loss: 0.1060 - val_accuracy: 0.9806\n",
            "Epoch 18/20\n",
            "266/266 [==============================] - 59s 221ms/step - loss: 0.0575 - accuracy: 0.9934 - val_loss: 0.0067 - val_accuracy: 0.9977\n",
            "Epoch 19/20\n",
            "266/266 [==============================] - 58s 219ms/step - loss: 0.0301 - accuracy: 0.9945 - val_loss: 0.0100 - val_accuracy: 0.9975\n",
            "Epoch 20/20\n",
            "266/266 [==============================] - 58s 219ms/step - loss: 0.0400 - accuracy: 0.9940 - val_loss: 0.0238 - val_accuracy: 0.9920\n"
          ]
        }
      ]
    },
    {
      "cell_type": "code",
      "source": [
        "#Visualization of Results\n",
        "plt.figure(figsize = (10,5))\n",
        "plt.plot(history.history['accuracy'])\n",
        "plt.xlabel('Number of iterations')\n",
        "plt.ylabel('Training Accuracy(%)')\n",
        "plt.grid()\n",
        "plt.show()"
      ],
      "metadata": {
        "id": "LKkZflx29G4k",
        "colab": {
          "base_uri": "https://localhost:8080/",
          "height": 334
        },
        "outputId": "59823a93-7b1c-4b5e-fb23-2a4612795ece"
      },
      "execution_count": 27,
      "outputs": [
        {
          "output_type": "display_data",
          "data": {
            "text/plain": [
              "<Figure size 720x360 with 1 Axes>"
            ],
            "image/png": "[encoded data removed]"
          },
          "metadata": {
            "needs_background": "light"
          }
        }
      ]
    },
    {
      "cell_type": "code",
      "source": [
        "plt.figure(figsize = (10,5))\n",
        "plt.plot(history.history['val_accuracy'])\n",
        "plt.xlabel('Number of iterations')\n",
        "plt.ylabel('Validation Accuracy(%)')\n",
        "plt.grid()\n",
        "plt.show()"
      ],
      "metadata": {
        "colab": {
          "base_uri": "https://localhost:8080/",
          "height": 334
        },
        "id": "oA17zs9T7v4o",
        "outputId": "e9c94294-c6f5-423b-cb1f-cf3273c7582a"
      },
      "execution_count": 28,
      "outputs": [
        {
          "output_type": "display_data",
          "data": {
            "text/plain": [
              "<Figure size 720x360 with 1 Axes>"
            ],
            "image/png": "[encoded data removed]"
          },
          "metadata": {
            "needs_background": "light"
          }
        }
      ]
    },
    {
      "cell_type": "code",
      "source": [
        "plt.figure(figsize = (10,5))\n",
        "plt.plot(history.history['loss'])\n",
        "plt.xlabel('Number of iterations')\n",
        "plt.ylabel('Training_loss')\n",
        "plt.grid()\n",
        "plt.show()"
      ],
      "metadata": {
        "colab": {
          "base_uri": "https://localhost:8080/",
          "height": 334
        },
        "id": "QGro34K374GA",
        "outputId": "eb0bee7c-b3c9-41f0-a809-ef077b42bf3e"
      },
      "execution_count": 29,
      "outputs": [
        {
          "output_type": "display_data",
          "data": {
            "text/plain": [
              "<Figure size 720x360 with 1 Axes>"
            ],
            "image/png": "[encoded data removed]"
          },
          "metadata": {
            "needs_background": "light"
          }
        }
      ]
    },
    {
      "cell_type": "code",
      "source": [
        "plt.figure(figsize = (10,5))\n",
        "plt.plot(history.history['val_loss'])\n",
        "plt.xlabel('Number of iterations')\n",
        "plt.ylabel('Validation_loss')\n",
        "plt.grid()\n",
        "plt.show()"
      ],
      "metadata": {
        "colab": {
          "base_uri": "https://localhost:8080/",
          "height": 334
        },
        "id": "S9Ceuiub76FB",
        "outputId": "2251b9ea-e940-4048-92f7-84f365d2b71a"
      },
      "execution_count": 30,
      "outputs": [
        {
          "output_type": "display_data",
          "data": {
            "text/plain": [
              "<Figure size 720x360 with 1 Axes>"
            ],
            "image/png": "[encoded data removed]"
          },
          "metadata": {
            "needs_background": "light"
          }
        }
      ]
    },
    {
      "cell_type": "code",
      "source": [],
      "metadata": {
        "id": "ns8tg9Vi7-ox"
      },
      "execution_count": null,
      "outputs": []
    }
  ],
  "metadata": {
    "colab": {
      "provenance": [],
      "authorship_tag": "ABX9TyNkO6zfVUy71pznz10KVe3g",
      "include_colab_link": true
    },
    "kernelspec": {
      "display_name": "Python 3",
      "name": "python3"
    },
    "language_info": {
      "name": "python"
    },
    "gpuClass": "standard",
    "accelerator": "GPU"
  },
  "nbformat": 4,
  "nbformat_minor": 0
}